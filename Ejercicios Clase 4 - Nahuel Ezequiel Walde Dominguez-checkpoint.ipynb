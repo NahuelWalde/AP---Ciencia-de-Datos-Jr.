{
 "cells": [
  {
   "cell_type": "markdown",
   "id": "429af4f7",
   "metadata": {},
   "source": [
    "# Ejercitación Clase 4"
   ]
  },
  {
   "cell_type": "markdown",
   "id": "a1b6c156",
   "metadata": {},
   "source": [
    "### Ejercicio 1"
   ]
  },
  {
   "cell_type": "markdown",
   "id": "d4547f86",
   "metadata": {},
   "source": [
    "Pedir el ingreso por teclado de 3 valores numéricos enteros entre 1 y 10\n",
    "correspondientes a las notas de un alumno.\n",
    "En base al promedio final de las tres notas, mostrar un mensaje por\n",
    "pantalla que indique si el alumno promociona la materia (nota final 7,8,9\n",
    "o 10), debe rendir final (nota final 4,5 o 6) o recursa (nota 1,2,3)."
   ]
  },
  {
   "cell_type": "markdown",
   "id": "8f53250a",
   "metadata": {},
   "source": [
    "***Solución***\n"
   ]
  },
  {
   "cell_type": "code",
   "execution_count": 7,
   "id": "599a72f0",
   "metadata": {},
   "outputs": [
    {
     "name": "stdout",
     "output_type": "stream",
     "text": [
      "Por favor, ingresar notas del alumno del 1 al 10 para poder continuar (enteros o decimales)\n",
      "Ingrese la primera nota: 5\n",
      "La nota ingresada es: 5.0\n",
      "Ingrese la segunda nota: 10\n",
      "La nota ingresada es: 10.0\n",
      "Ingrese la tercera nota: 10\n",
      "La nota ingresada es: 10.0\n",
      "El promedio final es: 8.333333333333334\n",
      "Promociona la materia.\n"
     ]
    }
   ],
   "source": [
    "# Solicitamos ingreso de 3 notas. Cada uno de esos números se guardará como dato en una variable diferente.\n",
    "\n",
    "print(\"Por favor, ingresar notas del alumno del 1 al 10 para poder continuar (enteros o decimales)\") \n",
    "\n",
    "# En el código de arriba aclaramos al usuario que ingrese las notas del 1 al 10 para poder continuar.\n",
    "\n",
    "\n",
    "while True:                                              # La máquina hace algo mientras se cumpla la condición (bucle).\n",
    "    notaUno = float(input(\"Ingrese la primera nota: \"))  # Se solicita al usuario la primera nota.\n",
    "\n",
    "    if notaUno < 1 or notaUno > 10:                      # Ambas comparaciones son una condición, validará si se cumple alguna.\n",
    "        print(\"Error: La nota debe estar entre 1 y 10.\") # Mostrará lo que está entre \"\" si se cumple alguna de las dos.\n",
    "    else:                                                # De lo contrario...\n",
    "        print(f\"La nota ingresada es: {notaUno}\")        # Mostrará este mensaje.\n",
    "        break                                            # Detiene el bucle cuando la condición no se cumpla\n",
    "                                                         # es decir, cuando el número esté entre 1 y 10, y pedirá la 2° nota.\n",
    "\n",
    "# Le damos a la máquina las mismas instrucciones al momento de solicitar las otras notas.\n",
    "\n",
    "while True:\n",
    "    notaDos = float(input(\"Ingrese la segunda nota: \"))   # Se solicita al usuario la segunda nota.\n",
    "    \n",
    "    if notaDos < 1 or notaDos > 10:\n",
    "        print(\"Error: La nota debe estar entre 1 y 10.\")\n",
    "    else:\n",
    "        print(f\"La nota ingresada es: {notaDos}\")\n",
    "        break\n",
    "        \n",
    "\n",
    "while True:\n",
    "    notaTres = float(input(\"Ingrese la tercera nota: \")) # Se solicita al usuario la tercera nota.\n",
    "    \n",
    "    if notaTres < 1 or notaTres > 10:\n",
    "        print(\"Error: La nota debe estar entre 1 y 10.\")\n",
    "    else: \n",
    "        print(f\"La nota ingresada es: {notaTres}\")\n",
    "        break\n",
    "\n",
    "# Declaramos algunas variables para guardar datos útiles que utilizaremos para saber la condición del alumno.\n",
    "        \n",
    "notas = [notaUno, notaDos, notaTres]             # Con \"notas\" guardamos las notas en forma de lista.\n",
    "promedioFinal = sum(notas)/len(notas)            # Con \"promedioDeNotas\" guardamos el cálculo del promedio.\n",
    "print(f\"El promedio final es: {promedioFinal}\")  # Mostrará el mensaje con el promedio por pantalla.\n",
    "\n",
    "# Creamos la estructura de validación de datos para que la máquina determine la condición del alumno en base a promedio final.\n",
    "\n",
    "if promedioFinal >= 7:               # Revisará si el promedio está en la lista de 7, 8, 9 o 10.\n",
    "    print(\"Promociona la materia.\")  # Mostrará el mensaje entre \"\".\n",
    "elif promedioFinal >= 4:             # Revisará si el promedio está en la lista de 4, 5, 6.\n",
    "    print(\"Debe rendir final.\")      # Mostrará el mensaje entre \"\".\n",
    "else:                                # Si está en ninguna de las anteriores...\n",
    "    print(\"Debe recursar\")           # Mostrará el mensaje entre \"\"."
   ]
  },
  {
   "cell_type": "markdown",
   "id": "b1e5b6ad",
   "metadata": {},
   "source": [
    "### Ejercicio 2"
   ]
  },
  {
   "cell_type": "markdown",
   "id": "1a5823c1",
   "metadata": {},
   "source": [
    "Solicitar por teclado la cantidad de partidos ganados, empatados y perdidos\n",
    "de un determinado club de fútbol. Calcular y mostrar el puntaje final\n",
    "sabiendo que cada partido ganado le otorga 3 puntos, cada partido\n",
    "empatado 1 punto y ningún punto por cada partido perdido."
   ]
  },
  {
   "cell_type": "markdown",
   "id": "4a95108e",
   "metadata": {},
   "source": [
    "***Solución***"
   ]
  },
  {
   "cell_type": "code",
   "execution_count": 17,
   "id": "7f27a0d8",
   "metadata": {},
   "outputs": [
    {
     "name": "stdout",
     "output_type": "stream",
     "text": [
      "Ingrese la cantidad de partidos ganados: 3\n",
      "Ingrese la cantidad de partidos empatados: 5\n",
      "Ingrese la cantidad de partidos perdidos: 6\n",
      "El puntaje final es: 14\n"
     ]
    }
   ],
   "source": [
    "# Declaramos las variables con un valor -1 para que el bucle que declaremos se inicie al menos por primera vez.\n",
    "\n",
    "partidosGanados = -1\n",
    "partidosEmpatados = -1\n",
    "partidosPerdidos = -1\n",
    "\n",
    "# Iniciamos el bucle. Seguirá hasta que el usuario ingrese un número mayor o igual a 0.\n",
    "\n",
    "while partidosGanados < 0 or partidosEmpatados < 0 or partidosPerdidos < 0:\n",
    "    partidosGanados = int(input(\"Ingrese la cantidad de partidos ganados: \"))      # Se pide cantidad de partidos ganados.\n",
    "    partidosEmpatados = int(input(\"Ingrese la cantidad de partidos empatados: \"))  # Se pide cantidad de partidos empatados.\n",
    "    partidosPerdidos = int(input(\"Ingrese la cantidad de partidos perdidos: \"))    # Se pide cantidad de partidos perdidos.\n",
    "\n",
    "puntajeFinal = partidosGanados * 3 + partidosEmpatados  # Se hace el cáculo dentro de la variable.\n",
    "print(f\"El puntaje final es: {puntajeFinal}\")           # Muestra el mensaje entre \"\"."
   ]
  },
  {
   "cell_type": "markdown",
   "id": "13afab02",
   "metadata": {},
   "source": [
    "### Ejercicio 3\n"
   ]
  },
  {
   "cell_type": "markdown",
   "id": "7a68947d",
   "metadata": {},
   "source": [
    "Solicitar por teclado el ingreso de un número entero.\n",
    "Asignar dicho número a una variable, transformarla a coma flotante y\n",
    "mostrarla por pantalla (valor y tipo de variable)."
   ]
  },
  {
   "cell_type": "markdown",
   "id": "14dbf83d",
   "metadata": {},
   "source": [
    "***Solución***"
   ]
  },
  {
   "cell_type": "code",
   "execution_count": 29,
   "id": "4112a07c",
   "metadata": {},
   "outputs": [
    {
     "name": "stdout",
     "output_type": "stream",
     "text": [
      "Ingrese un número entero: 1\n",
      "El número ingresado es: 1\n",
      "<class 'int'>\n",
      "1.0\n",
      "ingrese un número entero que se convertirá a float: 1\n",
      "El número convertido es: 1.0\n",
      "<class 'float'>\n"
     ]
    }
   ],
   "source": [
    "# Solicitamos el ingreso de un número entero.\n",
    "\n",
    "numero = int(input(\"Ingrese un número entero: \"))\n",
    "print(f\"El número ingresado es: {numero}\")         # Mostrará el número ingresado.\n",
    "print(type(numero))                                # Mostrará el tipo de número.\n",
    "\n",
    "# Modificamos el número entero a float solo para la salida en pantalla.\n",
    "\n",
    "print(float(numero))\n",
    "\n",
    "# Modificamos el número entero a float pero desde la variable. Usamos la variable original, siempre y cuando no la necesitemos.\n",
    "\n",
    "numero = float(input(\"ingrese un número entero que se convertirá a float: \"))  # Solicitamos el número que será convertido.\n",
    "print(f\"El número convertido es: {numero}\")                                    # Mostrará el número convertido en pantalla.\n",
    "print(type(numero))                                                            # Mostrará el tipo de número."
   ]
  },
  {
   "cell_type": "markdown",
   "id": "136fe6bc",
   "metadata": {},
   "source": [
    "### Ejericio 4"
   ]
  },
  {
   "cell_type": "markdown",
   "id": "58bc6a11",
   "metadata": {},
   "source": [
    "Desarrollar un programa que solicite al usuario los lados de un rectángulo\n",
    "y calcule su perímetro y su superficie.\n",
    "Informar ambos resultados por pantalla."
   ]
  },
  {
   "cell_type": "code",
   "execution_count": 33,
   "id": "c19a2b46",
   "metadata": {},
   "outputs": [
    {
     "name": "stdout",
     "output_type": "stream",
     "text": [
      "Ingrese altura altura del rectángulo: 2\n",
      "Ingrese base del rectángulo: 4\n",
      "El valor del perímetro es: 12.0 y el valor de la superficie es: 8.0\n"
     ]
    }
   ],
   "source": [
    "# Solicitamos valores al usuario.\n",
    "\n",
    "altura = float(input(\"Ingrese altura altura del rectángulo: \"))  # Solicitamos altura.\n",
    "base = float(input(\"Ingrese base del rectángulo: \"))             # Solicitamos base.            \n",
    "\n",
    "# Asignamos los cáculos dentro de las variables perimetro y superficie.\n",
    "\n",
    "perimetro = altura * 2 + base * 2  # Asignamos el cálculo del perimetro dentro de la variable con el mismo nombre.\n",
    "superficie = altura * base         # Asignamos el cáculo de la superficie dentro de la variable con el mismo nombre.\n",
    "\n",
    "print(f\"El valor del perímetro es: {perimetro} y el valor de la superficie es: {superficie}\") # Mostrará el mensaje entre \"\"."
   ]
  },
  {
   "cell_type": "markdown",
   "id": "97aec419",
   "metadata": {},
   "source": [
    "### Ejercicio 5"
   ]
  },
  {
   "cell_type": "markdown",
   "id": "8db6c165",
   "metadata": {},
   "source": [
    "Si creamos tres listas. La primera contiene 4 números, la segunda contiene\n",
    "5 letras y en la tercera le cargamos como elementos las dos listas\n",
    "anteriores.\n",
    "¿Cuántos elementos contendrá la tercera lista? Demostrar mediante un\n",
    "breve código."
   ]
  },
  {
   "cell_type": "code",
   "execution_count": 40,
   "id": "b593d9a7",
   "metadata": {},
   "outputs": [
    {
     "name": "stdout",
     "output_type": "stream",
     "text": [
      "La lista tres tiene 2 elementos\n"
     ]
    }
   ],
   "source": [
    "# Creamos las listas.\n",
    "\n",
    "listaUno = [1, 2, 3, 4]               # Primera lista con cuatro números.\n",
    "listaDos = [\"a\", \"b\", \"c\", \"d\", \"e\"]  # Segunda lista con 5 letras.\n",
    "listaTres = [listaUno, listaDos]      # Tercera lista con las dos listas anteriores como elementos.\n",
    "cantidadDeElementos = len(listaTres)  # En otra variable contamos los elementos de la lista tres.\n",
    "\n",
    "print(f\"La lista tres tiene {cantidadDeElementos} elementos\")  # Mostrará en pantalla el mensaje entre \"\"."
   ]
  },
  {
   "cell_type": "markdown",
   "id": "6bf194c6",
   "metadata": {},
   "source": [
    "### Ejercicio 6"
   ]
  },
  {
   "cell_type": "markdown",
   "id": "148851c6",
   "metadata": {},
   "source": [
    "Escribir un programa que pida ingresar un número entero mayor que cero\n",
    "por teclado.\n",
    "Verificar si el número ingresado es múltiplo de 2, 3, 4, 5, 6, 7, 8 o 9. \n",
    "Armar una lista con los números encontrados (por ejemplo, si el número\n",
    "ingresado es múltiplo de 3,6 y 7, armamos una lista que contenga estos\n",
    "tres números).\n",
    "Mostrar la lista por pantalla, ordenada de mayor a menor.\n",
    "En caso de que el número ingresado no sea múltiplo de estos números,\n",
    "mostrar por pantalla el mensaje “No se encontraron divisores exactos”."
   ]
  },
  {
   "cell_type": "markdown",
   "id": "fa28049e",
   "metadata": {},
   "source": [
    "***Solución***"
   ]
  },
  {
   "cell_type": "code",
   "execution_count": 48,
   "id": "a9d82fc1",
   "metadata": {},
   "outputs": [
    {
     "name": "stdout",
     "output_type": "stream",
     "text": [
      "Ingrese un número real: 12\n",
      "12 es múltiplo de 2\n",
      "12 es múltiplo de 3\n",
      "12 es múltiplo de 4\n",
      "12 es múltiplo de 6\n",
      "Se encontraron los siguientes divisores: [6, 4, 3, 2]\n"
     ]
    }
   ],
   "source": [
    "# Creamos una variable con valor -1 para que el bucle que utilicemos se inicie al menos una vez.\n",
    "\n",
    "numeroMultiplo = -1 \n",
    "\n",
    "# Creamos un bucle. No se cortará hasta que el usuario ingrese un número mayor o igual a 0.\n",
    "\n",
    "while numeroMultiplo < 0: \n",
    "    numeroMultiplo = int(input(\"Ingrese un número real: \"))\n",
    "\n",
    "multiplos = [2, 3, 4, 5, 6, 7, 8, 9]  # Lista con los números por los cuales verificar si el número ingresado es múltiplo.\n",
    "\n",
    "listaDeMultiplos = []  # Creamos lista vacía en donde se guardarán los múltiplos encontrados.\n",
    "\n",
    "# Creamos un bucle que recorra la lista elemento por elemento y valide si se cumple la condición dada.\n",
    "\n",
    "for multiplo in multiplos:                                    # Por cada elemento (asignado a multiplo) en la lista multiplos.\n",
    "    if numeroMultiplo % multiplo == 0:                        # Verifica si el número ingresado es múltiplo del elemento tomado.\n",
    "        print(f\"{numeroMultiplo} es múltiplo de {multiplo}\")  # Mostrará el mensaje entre \"\" si la condición se cumple.\n",
    "        listaDeMultiplos.append(multiplo)                     # Agregará múltiplos a la lista creada más arriba.\n",
    "        \n",
    "if listaDeMultiplos:                                     # Analiza si hay elementos encontrados.\n",
    "    listaDeMultiplos.sort(reverse=True)                  # En caso de haberlos, aquí los ordena de mayor a menor.\n",
    "    print(f\"Múltiplos encontrados: {listaDeMultiplos}\")  # Mostrará la lista por pantalla.\n",
    "else:                                                    # Si no hay elementos...\n",
    "    print(\"No se encontraron divisores exactos.\")        # Imprimirá el mensaje entre \"\"."
   ]
  },
  {
   "cell_type": "markdown",
   "id": "f3b2435f",
   "metadata": {},
   "source": [
    "### Ejercicio 7"
   ]
  },
  {
   "cell_type": "markdown",
   "id": "d853d1c2",
   "metadata": {},
   "source": [
    "Pedirle al usuario que ingrese dos números enteros por teclado y contar\n",
    "cuantos números pares hay entre ambos valores ingresados."
   ]
  },
  {
   "cell_type": "markdown",
   "id": "db359a70",
   "metadata": {},
   "source": [
    "***Solución***"
   ]
  },
  {
   "cell_type": "code",
   "execution_count": 53,
   "id": "604dec63",
   "metadata": {},
   "outputs": [
    {
     "name": "stdout",
     "output_type": "stream",
     "text": [
      "Ingrese el primer número: 1\n",
      "Ingrese el segundo número: 10\n",
      "Entre 1 y 10 se encontraron 5 números pares\n"
     ]
    }
   ],
   "source": [
    "# Solicitamos dos números enteros y se los asignamos a variables diferentes.\n",
    "\n",
    "primerNumero = int(input(\"Ingrese el primer número: \"))\n",
    "segundoNumero = int(input(\"Ingrese el segundo número: \"))\n",
    "\n",
    "listaDePares = []  # Creamos una lista vacía en donde podamos guardar cada elemento elegido.\n",
    "\n",
    "# Tomará un rango desde el primer número hasta el segundo número ingresado e irá elemento por elemento.\n",
    "\n",
    "for valor in range(primerNumero, segundoNumero + 1):  # + 1 se usa para incluir el elemento final del rango, ya que no lo hace.\n",
    "    if valor % 2 == 0:                                # Le damos una condición, que el elemento (valor) tenga resto igual a 0.\n",
    "        listaDePares.append(valor)                    # Si se cumple la condición, se agregará a la lista vacía (por ser par).\n",
    "    \n",
    "listaDePares = len(listaDePares)                                                              # Contará los elementos agregados.\n",
    "print(f\"Entre {primerNumero} y {segundoNumero} se encontraron {listaDePares} números pares\")  # Mostrará el mensaje entre \"\"."
   ]
  },
  {
   "cell_type": "markdown",
   "id": "7066cf9a",
   "metadata": {},
   "source": [
    "### Ejercicio 8"
   ]
  },
  {
   "cell_type": "markdown",
   "id": "efc595d6",
   "metadata": {},
   "source": [
    "Escribir un programa que permita al usuario ingresar por teclado tantos\n",
    "números enteros como desee. Cuando no quiera ingresar más números,\n",
    "deberá ingresar el cero.\n",
    "A continuación, determinar cuál de los números ingresados es el mayor y\n",
    "cuál es el menor. Mostrar ambos por pantalla."
   ]
  },
  {
   "cell_type": "code",
   "execution_count": 58,
   "id": "377868bb",
   "metadata": {},
   "outputs": [
    {
     "name": "stdout",
     "output_type": "stream",
     "text": [
      "Ingrese un número entero: 1\n",
      "Ingrese otro número: 5\n",
      "Ingrese otro número: 0\n",
      "El número mayor de los ingresados es 5 y el número menor es 0\n"
     ]
    }
   ],
   "source": [
    "# Solicitamos al usuario ingresar un número y la asignamos a una variable.\n",
    "\n",
    "numeroNuevo = int(input(\"Ingrese un número entero: \"))\n",
    "\n",
    "listaDeNumeros = []  # Lista vacía donde guardaremos los números que el usuario irá ingresando.\n",
    "\n",
    "# Iniciamos un bucle con una instrucción de validación.\n",
    "\n",
    "while True:                                                # Inicio de bucle.\n",
    "    if numeroNuevo != 0:                                   # Valida si la condición dada se cumple.\n",
    "        numeroNuevo = int(input(\"Ingrese otro número: \"))  # De ser así, se le pide al usuario que ingrese otro número.\n",
    "        listaDeNumeros.append(numeroNuevo)\n",
    "    else:                                                  # Caso contrario.\n",
    "        break                                              # Se interrumpirá el proceso con esta instrucción.\n",
    "\n",
    "# Creamos variables en la que sus valores será igual al primer elemento de la lista de números.\n",
    "\n",
    "maximo = listaDeNumeros[0]  # La variable maximo es igual a listaDeNumeros, pero a su primer elemento que está entre corchetes.\n",
    "minimo = listaDeNumeros[0]  # Lo mismo con esta variable.\n",
    "\n",
    "# La máquina inicia una recorrida elemento por elemento dentro de listaDeNúmeros.\n",
    "\n",
    "for elementoX in listaDeNumeros:    # Por cada elemento dentro de la lista de elementos.\n",
    "    if elementoX > maximo:          # Se impone la condición.\n",
    "        maximo = elementoX          # En caso de cumplirse se le asigna a la variable maximo un nuevo valor.\n",
    "\n",
    "# Se repite el procedimiento para modificar el valor de la variable minimo.\n",
    "for elementoY in listaDeNumeros:\n",
    "    if elementoY < minimo:\n",
    "        minimo = elementoY\n",
    "        \n",
    "print(f\"El número mayor de los ingresados es {maximo} y el número menor es {minimo}\")  # Mostrará el mensaje entre \"\"."
   ]
  },
  {
   "cell_type": "markdown",
   "id": "574226a2",
   "metadata": {},
   "source": [
    "###  Ejercicio 9"
   ]
  },
  {
   "cell_type": "markdown",
   "id": "2034a8b3",
   "metadata": {},
   "source": [
    "Escribir un programa que le pregunte al usuario cuantas palabras desea\n",
    "ingresar, luego le permita ingresarlas todas y finalmente mostrarlas por\n",
    "pantalla."
   ]
  },
  {
   "cell_type": "code",
   "execution_count": 62,
   "id": "c51f9b08",
   "metadata": {},
   "outputs": [
    {
     "name": "stdout",
     "output_type": "stream",
     "text": [
      "Ingrese la cantidad de palabras que desea ingresar: 2\n",
      "Ingrese una palabra: Una\n",
      "Ingrese una palabra: Foca\n",
      "Las palabras ingresadas son: Una Foca\n"
     ]
    }
   ],
   "source": [
    "# Solicitamos al usuario la cantidad de palabras que quiera ingresar y se asigna a una variable.\n",
    "\n",
    "cantidadDePalabras = int(input(\"Ingrese la cantidad de palabras que desea ingresar: \"))\n",
    "\n",
    "palabras = []  # Lista vacía donde se almacenarán las palabras ingresadas.\n",
    "\n",
    "# Bucle para solicitar al usuario que ingrese las palabras.\n",
    "\n",
    "for i in range(cantidadDePalabras):           # Por cada elemento en el rango de la cantidad ingresada en números.\n",
    "    palabra = input(\"Ingrese una palabra: \")  # palabra será igual a lo ingresado por el usuario\n",
    "    palabras.append(palabra)                  # Instrucción para agregar lo ingresado por el usuario en la lista de palabras.\n",
    "\n",
    "# Mostrar las palabras ingresadas por pantalla.\n",
    "\n",
    "print(\"Las palabras ingresadas son: \")  # Se mostrará este mensaje que está entre \"\".\n",
    "for palabra in palabras:                # Recorrerá palabra por palabra en la lista de palabras.\n",
    "    print(palabra)                      # Imprimirá una palabra y continuará el recorrido en la lista de palabras."
   ]
  },
  {
   "cell_type": "markdown",
   "id": "a7196921",
   "metadata": {},
   "source": [
    "### Ejercicio 10"
   ]
  },
  {
   "cell_type": "markdown",
   "id": "2bbfc629",
   "metadata": {},
   "source": [
    "Escribir un programa que le solicite al usuario ingresar 10 palabras, luego\n",
    "le pida ingresar una más y le diga si esa última palabra ingresada se\n",
    "encuentra entre las 10 palabras ingresadas anteriormente."
   ]
  },
  {
   "cell_type": "code",
   "execution_count": 67,
   "id": "dfefa3c4",
   "metadata": {},
   "outputs": [
    {
     "name": "stdout",
     "output_type": "stream",
     "text": [
      "Ingrese una palabra: Coca\n",
      "Ingrese una palabra: Lata\n",
      "Ingrese una palabra: Ron\n",
      "Ingrese una palabra: Chela\n",
      "Ingrese una palabra: Wa\n",
      "Ingrese una palabra: We\n",
      "Ingrese una palabra: Wi\n",
      "Ingrese una palabra: Wo \n",
      "Ingrese una palabra: Wu\n",
      "Ingrese una palabra: Mu\n",
      "Ingrese una última palabra: Lala\n",
      "La palabra Lala no se encuentra entre las 10 palabras ingresadas anteriormente\n"
     ]
    }
   ],
   "source": [
    "# Pedimos al usuario que ingrese 10 palabras.\n",
    "\n",
    "diezPalabras = []  # Creamos una lista vacía para almacenar las palabras.\n",
    "\n",
    "for c in range(10):                           # Repetirá 10 veces sin utilizar el valor del bucle.\n",
    "    palabra = input(\"Ingrese una palabra: \")  # Solicita al usuario una palabra que se guardará en la variable de mismo nombre.\n",
    "    diezPalabras.append(palabra)              # Agrega la palabra a la lista.\n",
    "\n",
    "# Solicita al usuario que ingrese una última palabra.\n",
    "\n",
    "ultimaPalabra = input(\"Ingrese una última palabra: \")\n",
    "\n",
    "# Verifica si la última palabra está entre las 10 palabras ingresadas anteriormente.\n",
    "\n",
    "if ultimaPalabra in diezPalabras:\n",
    "    print(f\"La palabra {ultimaPalabra} se encuentra entre las 10 palabras ingresadas anteriormente\")\n",
    "else:\n",
    "    print(f\"La palabra {ultimaPalabra} no se encuentra entre las 10 palabras ingresadas anteriormente\")"
   ]
  },
  {
   "cell_type": "code",
   "execution_count": null,
   "id": "ed950166",
   "metadata": {},
   "outputs": [],
   "source": []
  }
 ],
 "metadata": {
  "kernelspec": {
   "display_name": "Python 3 (ipykernel)",
   "language": "python",
   "name": "python3"
  },
  "language_info": {
   "codemirror_mode": {
    "name": "ipython",
    "version": 3
   },
   "file_extension": ".py",
   "mimetype": "text/x-python",
   "name": "python",
   "nbconvert_exporter": "python",
   "pygments_lexer": "ipython3",
   "version": "3.10.9"
  }
 },
 "nbformat": 4,
 "nbformat_minor": 5
}
